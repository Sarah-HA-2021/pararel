{
 "cells": [
  {
   "cell_type": "code",
   "execution_count": 1,
   "metadata": {},
   "outputs": [],
   "source": [
    "import numpy as np\n",
    "\n",
    "\n",
    "import matplotlib.pyplot as plt\n",
    "%matplotlib inline\n",
    "\n",
    "import seaborn as sns\n",
    "sns.set(style=\"whitegrid\")\n",
    "\n",
    "import pandas as pd\n",
    "import matplotlib.pyplot as plt\n",
    "from sklearn.manifold import TSNE\n",
    "import json\n",
    "\n",
    "import pickle"
   ]
  },
  {
   "cell_type": "code",
   "execution_count": 2,
   "metadata": {},
   "outputs": [],
   "source": [
    "# TODO - add the full path to the repository\n",
    "import sys\n",
    "sys.path.append('PATH-TO/pararel/')"
   ]
  },
  {
   "cell_type": "code",
   "execution_count": 3,
   "metadata": {},
   "outputs": [],
   "source": [
    "from pararel.consistency import utils"
   ]
  },
  {
   "cell_type": "code",
   "execution_count": 4,
   "metadata": {},
   "outputs": [],
   "source": [
    "with open('../data/trex/data/relations.jsonl', 'r') as f:\n",
    "    lines = f.readlines()\n",
    "    lines = [x.strip() for x in lines]\n",
    "    \n",
    "json_lines = [json.loads(x) for x in lines]\n",
    "pid2label = {x['relation']: x['label'] for x in json_lines}\n",
    "pid2type = {x['relation']: x['type'] for x in json_lines}"
   ]
  },
  {
   "cell_type": "code",
   "execution_count": 5,
   "metadata": {},
   "outputs": [],
   "source": [
    "def get_data(rel_id, model):\n",
    "    data = utils.read_jsonl_file('../data/trex_lms_vocab/{}.jsonl'.format(rel_id))\n",
    "\n",
    "    prompts = utils.load_prompts('../data/pattern_data/graphs_json/{}.jsonl'.format(rel_id))\n",
    "\n",
    "    representations = np.load('../data/output/representations/{}_{}.npy'.format(rel_id, model))\n",
    "    \n",
    "    with open('../data/pattern_data/graphs/{}.graph'.format(rel_id), 'rb') as f:\n",
    "        graph = pickle.load(f)\n",
    "    graph_nodes = [x.lm_pattern for x in graph.nodes]\n",
    "    \n",
    "    filt_prompts, filt_representations = [], []\n",
    "    for p, r in zip(prompts, representations):\n",
    "        if p in graph_nodes:\n",
    "            filt_prompts.append(p)\n",
    "            filt_representations.append(r)\n",
    "        \n",
    "    \n",
    "    return data, filt_prompts, np.array(filt_representations)"
   ]
  },
  {
   "cell_type": "code",
   "execution_count": 6,
   "metadata": {},
   "outputs": [],
   "source": [
    "with open('../data/trex/data/relations.jsonl', 'r') as f:\n",
    "    rels = f.readlines()\n",
    "    rels = [json.loads(x)['relation'] for x in rels]"
   ]
  },
  {
   "cell_type": "code",
   "execution_count": 7,
   "metadata": {},
   "outputs": [
    {
     "data": {
      "text/plain": [
       "46"
      ]
     },
     "execution_count": 7,
     "metadata": {},
     "output_type": "execute_result"
    }
   ],
   "source": [
    "len(rels)"
   ]
  },
  {
   "cell_type": "code",
   "execution_count": 8,
   "metadata": {},
   "outputs": [],
   "source": [
    "def get_table_data(data, prompts, representations, subjs_n=30):\n",
    "    table_data = []\n",
    "\n",
    "    for prompt_ind, prompt in enumerate(prompts):\n",
    "        for datum_ind, datum in enumerate(data):\n",
    "            if datum_ind >= subjs_n:\n",
    "                continue\n",
    "            table_data.append([prompt, datum['obj_label'], representations[prompt_ind, datum_ind]])\n",
    "    return table_data"
   ]
  },
  {
   "cell_type": "code",
   "execution_count": 9,
   "metadata": {},
   "outputs": [],
   "source": [
    "model2rel2df = {}\n",
    "model2rel2table = {}"
   ]
  },
  {
   "cell_type": "code",
   "execution_count": 10,
   "metadata": {},
   "outputs": [],
   "source": [
    "from copy import deepcopy"
   ]
  },
  {
   "cell_type": "code",
   "execution_count": 11,
   "metadata": {
    "scrolled": true
   },
   "outputs": [
    {
     "name": "stdout",
     "output_type": "stream",
     "text": [
      "P19\n",
      "P20\n",
      "P279\n",
      "P37\n",
      "P413\n",
      "P166\n",
      "P449\n",
      "P69\n",
      "P47\n",
      "P138\n",
      "P364\n",
      "P54\n",
      "P463\n",
      "P101\n",
      "P1923\n",
      "P106\n",
      "P527\n",
      "P102\n",
      "P530\n",
      "P176\n",
      "P27\n",
      "P407\n",
      "P30\n",
      "P178\n",
      "P1376\n",
      "P131\n",
      "P1412\n",
      "P108\n",
      "P136\n",
      "P17\n",
      "P39\n",
      "P264\n",
      "P276\n",
      "P937\n",
      "P140\n",
      "P1303\n",
      "P127\n",
      "P103\n",
      "P190\n",
      "P1001\n",
      "P31\n",
      "P495\n",
      "P159\n",
      "P36\n",
      "[t-SNE] Computing pairwise distances...\n",
      "[t-SNE] Computed conditional probabilities for sample 420 / 420\n",
      "[t-SNE] Mean sigma: 4.964180\n",
      "[t-SNE] Iteration 50: error = 14.5516427, gradient norm = 0.1230429 (50 iterations in 0.443s)\n",
      "[t-SNE] Iteration 100: error = 13.9938840, gradient norm = 0.1218216 (50 iterations in 0.356s)\n",
      "[t-SNE] Iteration 150: error = 13.9847044, gradient norm = 0.1190779 (50 iterations in 0.357s)\n",
      "[t-SNE] Iteration 200: error = 14.0823956, gradient norm = 0.1156330 (50 iterations in 0.355s)\n",
      "[t-SNE] Iteration 250: error = 13.5641920, gradient norm = 0.1243826 (50 iterations in 0.363s)\n",
      "[t-SNE] KL divergence after 250 iterations with early exaggeration: 13.564192\n",
      "[t-SNE] Iteration 300: error = 0.3810566, gradient norm = 0.0090412 (50 iterations in 0.354s)\n",
      "[t-SNE] Iteration 350: error = 0.3337554, gradient norm = 0.0070128 (50 iterations in 0.358s)\n",
      "[t-SNE] Iteration 400: error = 0.3008074, gradient norm = 0.0037399 (50 iterations in 0.358s)\n",
      "[t-SNE] Iteration 450: error = 0.3059501, gradient norm = 0.0015901 (50 iterations in 0.355s)\n",
      "[t-SNE] Iteration 500: error = 0.2943675, gradient norm = 0.0025808 (50 iterations in 0.361s)\n",
      "[t-SNE] Iteration 550: error = 0.2872908, gradient norm = 0.0027085 (50 iterations in 0.355s)\n",
      "[t-SNE] Iteration 600: error = 0.2846217, gradient norm = 0.0027506 (50 iterations in 0.354s)\n",
      "[t-SNE] Iteration 650: error = 0.2806337, gradient norm = 0.0018277 (50 iterations in 0.356s)\n",
      "[t-SNE] Iteration 700: error = 0.2820452, gradient norm = 0.0025629 (50 iterations in 0.358s)\n",
      "[t-SNE] Iteration 750: error = 0.2781256, gradient norm = 0.0010342 (50 iterations in 0.355s)\n",
      "[t-SNE] Iteration 800: error = 0.2774727, gradient norm = 0.0002722 (50 iterations in 0.356s)\n",
      "[t-SNE] Iteration 850: error = 0.2770414, gradient norm = 0.0002035 (50 iterations in 0.357s)\n",
      "[t-SNE] Iteration 900: error = 0.2766849, gradient norm = 0.0001504 (50 iterations in 0.356s)\n",
      "[t-SNE] Iteration 950: error = 0.2763877, gradient norm = 0.0001340 (50 iterations in 0.359s)\n",
      "[t-SNE] Iteration 1000: error = 0.2761273, gradient norm = 0.0001429 (50 iterations in 0.355s)\n",
      "[t-SNE] KL divergence after 1000 iterations: 0.276127\n",
      "P740\n",
      "P361\n"
     ]
    }
   ],
   "source": [
    "for model in [\n",
    "#     'bert-base-cased', \n",
    "    'bert-large-cased'#, 'bert-large-cased-whole-word-masking',\n",
    "             #'roberta-base', 'roberta-large',\n",
    "              #'albert-base-v2', 'albert-xxlarge-v2'\n",
    "            ]:\n",
    "\n",
    "    rel2df = {}\n",
    "    rel2table = {}\n",
    "\n",
    "    for ind, x in enumerate(rels):\n",
    "        print(x)\n",
    "        if x in ['P279', 'P166', 'P69', 'P54', 'P1923', 'P102', 'P361']:\n",
    "            continue\n",
    "        \n",
    "        if x not in ['P36']: continue\n",
    "\n",
    "        try:\n",
    "            data, prompts, representations = get_data(x, model)\n",
    "            table_data = get_table_data(data, prompts, representations)\n",
    "        except:\n",
    "            continue\n",
    "        rel2table[x] = table_data\n",
    "\n",
    "        n = 1000\n",
    "        try:\n",
    "\n",
    "            tsne = TSNE(n_components=2, perplexity=20, early_exaggeration=4.0, learning_rate=1000, n_iter=1000,\n",
    "                        n_iter_without_progress=50, min_grad_norm=0, method='exact', verbose=2)\n",
    "            Y = tsne.fit_transform(np.array([x[2] for x in table_data[:n]]))\n",
    "        except:\n",
    "            pass\n",
    "\n",
    "        temp = np.concatenate([[Y[:, 0]], [Y[:, 1]],\n",
    "                           [[x[0] for x in table_data[:n]]],\n",
    "                          [[x[1] for x in table_data[:n]]]], axis=0).T\n",
    "\n",
    "        df = pd.DataFrame(temp, columns=['x', 'y', 'pattern', 'subject'])\n",
    "        df['x'] = df['x'].astype(float)\n",
    "        df['y'] = df['y'].astype(float)\n",
    "\n",
    "        rel2df[x] = df\n",
    "        \n",
    "    model2rel2df[model] = rel2df\n",
    "    model2rel2table[model] = rel2table"
   ]
  },
  {
   "cell_type": "code",
   "execution_count": 12,
   "metadata": {},
   "outputs": [
    {
     "data": {
      "text/plain": [
       "dict_keys(['bert-large-cased'])"
      ]
     },
     "execution_count": 12,
     "metadata": {},
     "output_type": "execute_result"
    }
   ],
   "source": [
    "model2rel2df.keys()"
   ]
  },
  {
   "cell_type": "code",
   "execution_count": 13,
   "metadata": {},
   "outputs": [
    {
     "data": {
      "image/png": "[encoded data removed]",
      "text/plain": [
       "<Figure size 432x288 with 1 Axes>"
      ]
     },
     "metadata": {},
     "output_type": "display_data"
    }
   ],
   "source": [
    "ax = sns.scatterplot(data=model2rel2df['bert-large-cased']['P36'], x='x', y='y', hue='subject', style='pattern', legend=False)\n",
    "\n",
    "ax.set_ylabel('')\n",
    "ax.set_xlabel('')\n",
    "ax.set_title('Capital')\n",
    "\n",
    "plt.tight_layout()\n",
    "# plt.savefig(\"../figures/capital-bert-large.pdf\")"
   ]
  }
 ],
 "metadata": {
  "kernelspec": {
   "display_name": "memorization",
   "language": "python",
   "name": "memorization"
  },
  "language_info": {
   "codemirror_mode": {
    "name": "ipython",
    "version": 3
   },
   "file_extension": ".py",
   "mimetype": "text/x-python",
   "name": "python",
   "nbconvert_exporter": "python",
   "pygments_lexer": "ipython3",
   "version": "3.7.8"
  },
  "toc": {
   "colors": {
    "hover_highlight": "#DAA520",
    "navigate_num": "#000000",
    "navigate_text": "#333333",
    "running_highlight": "#FF0000",
    "selected_highlight": "#FFD700",
    "sidebar_border": "#EEEEEE",
    "wrapper_background": "#FFFFFF"
   },
   "moveMenuLeft": true,
   "navigate_menu": false,
   "number_sections": true,
   "sideBar": true,
   "threshold": 4,
   "toc_cell": false,
   "toc_section_display": "block",
   "toc_window_display": true,
   "widenNotebook": false
  }
 },
 "nbformat": 4,
 "nbformat_minor": 4
}
